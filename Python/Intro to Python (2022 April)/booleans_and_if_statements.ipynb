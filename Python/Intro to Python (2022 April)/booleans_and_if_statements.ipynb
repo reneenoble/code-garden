{
 "cells": [
  {
   "cell_type": "markdown",
   "metadata": {},
   "source": [
    "# Booleans with numbers"
   ]
  },
  {
   "cell_type": "code",
   "execution_count": 4,
   "metadata": {},
   "outputs": [
    {
     "name": "stdout",
     "output_type": "stream",
     "text": [
      "3 < 10\n",
      "True\n",
      "\n",
      "3 == 3\n",
      "True\n",
      "\n",
      "10 >= 40\n",
      "False\n",
      "\n",
      "True\n"
     ]
    }
   ],
   "source": [
    "print(\"3 < 10\")\n",
    "print(3 < 10)\n",
    "print()\n",
    "\n",
    "print(\"3 == 3\")\n",
    "print(3 == 3)\n",
    "print()\n",
    "\n",
    "print(\"10 >= 40\")\n",
    "print(10 >= 40)\n",
    "print()\n",
    "\n",
    "print(\"4 != 5\")\n",
    "print(4 != 5)\n",
    "print()"
   ]
  },
  {
   "cell_type": "markdown",
   "metadata": {},
   "source": [
    "# Booleans with strings"
   ]
  },
  {
   "cell_type": "code",
   "execution_count": 11,
   "metadata": {},
   "outputs": [
    {
     "name": "stdout",
     "output_type": "stream",
     "text": [
      "\"c\" in \"cat\"\n",
      "True\n",
      "\n",
      "\"cat\".startswith(\"c\")\n",
      "True\n",
      "\n",
      "\"cat\".startswith(\"g\")\n",
      "False\n",
      "\n",
      "\"c\" not in \"cat\"\n",
      "False\n",
      "\n",
      "\"d\" not in \"cat\"\n",
      "True\n",
      "\n"
     ]
    }
   ],
   "source": [
    "print('\"c\" in \"cat\"')\n",
    "print(\"c\" in \"cat\")\n",
    "print()\n",
    "\n",
    "print('\"cat\".startswith(\"c\")')\n",
    "print(\"cat\".startswith(\"c\"))\n",
    "print()\n",
    "\n",
    "print('\"cat\".startswith(\"g\")')\n",
    "print(\"cat\".startswith(\"g\"))\n",
    "print()\n",
    "\n",
    "print('\"c\" not in \"cat\"')\n",
    "print(\"c\" not in \"cat\")\n",
    "print()\n",
    "\n",
    "print('\"d\" not in \"cat\"')\n",
    "print(\"d\" not in \"cat\")\n",
    "print()"
   ]
  },
  {
   "cell_type": "markdown",
   "metadata": {},
   "source": [
    "# Variables in boolean logic"
   ]
  },
  {
   "cell_type": "code",
   "execution_count": 19,
   "metadata": {},
   "outputs": [
    {
     "name": "stdout",
     "output_type": "stream",
     "text": [
      "The number is 7\n",
      "\n",
      "num < 10\n",
      "True\n",
      "\n",
      "num == 3\n",
      "False\n",
      "\n",
      "num >= 40\n",
      "False\n",
      "\n",
      "num != 5\n",
      "True\n",
      "\n"
     ]
    }
   ],
   "source": [
    "num = 7\n",
    "print(f\"The number is {num}\")\n",
    "print()\n",
    "\n",
    "print(\"num < 10\")\n",
    "print(num < 10)\n",
    "print()\n",
    "\n",
    "\n",
    "print(\"num == 3\")\n",
    "print(num == 3)\n",
    "print()\n",
    "\n",
    "print(\"num >= 40\")\n",
    "print(num >= 40)\n",
    "print()\n",
    "\n",
    "print(\"num != 5\")\n",
    "print(num != 5)\n",
    "print()"
   ]
  },
  {
   "cell_type": "code",
   "execution_count": 24,
   "metadata": {},
   "outputs": [
    {
     "name": "stdout",
     "output_type": "stream",
     "text": [
      "The word is goat\n",
      "\n",
      "\"c\" in word\n",
      "False\n",
      "\n",
      "word.startswith(\"g\")\n",
      "True\n",
      "\n",
      "word.startswith(\"c\")\n",
      "False\n",
      "\n",
      "\"c\" not in word\n",
      "True\n",
      "\n",
      "\"d\" not in word\n",
      "True\n",
      "\n",
      "len(word) == 3\n",
      "False\n",
      "\n"
     ]
    }
   ],
   "source": [
    "word = \"goat\"\n",
    "print(f\"The word is {word}\")\n",
    "print()\n",
    "\n",
    "print('\"c\" in word')\n",
    "print(\"c\" in word)\n",
    "print()\n",
    "\n",
    "print('word.startswith(\"g\")')\n",
    "print(word.startswith(\"g\"))\n",
    "print()\n",
    "\n",
    "print('word.startswith(\"c\")')\n",
    "print(word.startswith(\"c\"))\n",
    "print()\n",
    "\n",
    "print('\"c\" not in word')\n",
    "print(\"c\" not in word)\n",
    "print()\n",
    "\n",
    "print('\"d\" not in word')\n",
    "print(\"d\" not in word)\n",
    "print()\n",
    "\n",
    "print('len(word) == 3')\n",
    "print(len(word) == 3)\n",
    "print()"
   ]
  },
  {
   "cell_type": "markdown",
   "metadata": {},
   "source": [
    "# Booleans and other data types"
   ]
  },
  {
   "cell_type": "code",
   "execution_count": 26,
   "metadata": {},
   "outputs": [
    {
     "name": "stdout",
     "output_type": "stream",
     "text": [
      "False\n",
      "False\n",
      "True\n"
     ]
    }
   ],
   "source": [
    "# this is a list\n",
    "fruits = [\"banana\", \"apple\", \"orange\"]\n",
    "\n",
    "print(\"mango\" in fruits)\n",
    "print(\"goat\" in fruits)\n",
    "print(\"banana\" in fruits)"
   ]
  },
  {
   "cell_type": "code",
   "execution_count": 28,
   "metadata": {},
   "outputs": [
    {
     "name": "stdout",
     "output_type": "stream",
     "text": [
      "True\n",
      "False\n",
      "True\n"
     ]
    }
   ],
   "source": [
    "# this is a dictionary\n",
    "\n",
    "home_towns = {\"Renee\": \"Sydney\", \n",
    "              \"Michelle\": \"Perth\", \n",
    "              \"Zach\": \"Melbourne\"}\n",
    "              \n",
    "print(\"Zach\" in home_towns)\n",
    "print(\"Sydney\" in home_towns)\n",
    "print(\"Sydney\" in home_towns.values())\n"
   ]
  },
  {
   "cell_type": "markdown",
   "metadata": {},
   "source": [
    "# Combining Booleans - Using NOT, AND, and OR"
   ]
  },
  {
   "cell_type": "markdown",
   "metadata": {},
   "source": [
    "## Using Not"
   ]
  },
  {
   "cell_type": "code",
   "execution_count": 30,
   "metadata": {},
   "outputs": [
    {
     "name": "stdout",
     "output_type": "stream",
     "text": [
      "False\n",
      "False\n",
      "False\n",
      "\n",
      "True\n",
      "True\n",
      "True\n"
     ]
    }
   ],
   "source": [
    "print(not 1 == 1)\n",
    "print(not \"a\" in \"cat\")\n",
    "print(\"a\" not in \"cat\")\n",
    "\n",
    "print()\n",
    "\n",
    "print(not 2 < 1)\n",
    "print(not \"z\" in \"cat\")\n",
    "print(\"z\" not in \"cat\")"
   ]
  },
  {
   "cell_type": "code",
   "execution_count": 31,
   "metadata": {},
   "outputs": [
    {
     "name": "stdout",
     "output_type": "stream",
     "text": [
      "True\n"
     ]
    }
   ],
   "source": [
    "name = \"Renee\"\n",
    "\n",
    "print(not \"o\" in name)"
   ]
  },
  {
   "cell_type": "markdown",
   "metadata": {},
   "source": [
    "## Using OR"
   ]
  },
  {
   "cell_type": "code",
   "execution_count": 37,
   "metadata": {},
   "outputs": [
    {
     "name": "stdout",
     "output_type": "stream",
     "text": [
      "\n",
      "both letters are there (e or n)\n",
      "True\n",
      "False\n",
      "True\n",
      "False\n"
     ]
    }
   ],
   "source": [
    "name = \"emily\"\n",
    "\n",
    "\n",
    "print()\n",
    "print(\"both letters are there (e or n)\")\n",
    "\n",
    "print(\"e\" in name)\n",
    "print(\"n\" in name)\n",
    "print((\"e\" in name) or (\"n\" in name))\n",
    "\n",
    "print((\"e\" and \"n\") in name)\n"
   ]
  },
  {
   "cell_type": "markdown",
   "metadata": {},
   "source": [
    "## Using AND"
   ]
  },
  {
   "cell_type": "code",
   "execution_count": 36,
   "metadata": {},
   "outputs": [
    {
     "name": "stdout",
     "output_type": "stream",
     "text": [
      "\n",
      "both letters are there (a or c)\n",
      "True\n",
      "False\n",
      "False\n"
     ]
    }
   ],
   "source": [
    "name = \"amelia\"\n",
    "\n",
    "\n",
    "print()\n",
    "print(\"both letters are there (a and c)\")\n",
    "\n",
    "print(\"a\" in name)\n",
    "print(\"c\" in name)\n",
    "print(\"a\" in name and \"c\" in name)"
   ]
  },
  {
   "cell_type": "markdown",
   "metadata": {},
   "source": [
    "## Combining them"
   ]
  },
  {
   "cell_type": "code",
   "execution_count": 42,
   "metadata": {},
   "outputs": [
    {
     "name": "stdout",
     "output_type": "stream",
     "text": [
      "False\n"
     ]
    }
   ],
   "source": [
    "animal = \"badger\"\n",
    "animal = \"bat\"\n",
    "\n",
    "# Animal has at least 4 letters, and the 4th letter is g\n",
    "\n",
    "# This breaks for bat\n",
    "# print(animal[3] == \"g\" and len(animal) >= 4)\n",
    "\n",
    "# This doesn't, because python is lazy!\n",
    "print(len(animal) >= 4 and animal[3] == \"g\")"
   ]
  }
 ],
 "metadata": {
  "interpreter": {
   "hash": "b0fa6594d8f4cbf19f97940f81e996739fb7646882a419484c72d19e05852a7e"
  },
  "kernelspec": {
   "display_name": "Python 3.9.8 64-bit",
   "language": "python",
   "name": "python3"
  },
  "language_info": {
   "codemirror_mode": {
    "name": "ipython",
    "version": 3
   },
   "file_extension": ".py",
   "mimetype": "text/x-python",
   "name": "python",
   "nbconvert_exporter": "python",
   "pygments_lexer": "ipython3",
   "version": "3.9.8"
  },
  "orig_nbformat": 4
 },
 "nbformat": 4,
 "nbformat_minor": 2
}
