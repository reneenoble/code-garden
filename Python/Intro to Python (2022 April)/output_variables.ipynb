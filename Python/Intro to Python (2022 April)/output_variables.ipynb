{
 "cells": [
  {
   "cell_type": "markdown",
   "metadata": {},
   "source": [
    "## What does Python do?\n",
    "\n",
    "A fancy calculator for numbers and words?"
   ]
  },
  {
   "cell_type": "code",
   "execution_count": 17,
   "metadata": {},
   "outputs": [
    {
     "data": {
      "text/plain": [
       "25"
      ]
     },
     "execution_count": 17,
     "metadata": {},
     "output_type": "execute_result"
    }
   ],
   "source": [
    "1 + 1\n",
    "2 * 6\n",
    "1.45 /2.4\n",
    "4 * 2 - 1\n",
    "5 * (2 + 4)\n",
    "5 ** 2"
   ]
  },
  {
   "cell_type": "code",
   "execution_count": 14,
   "metadata": {},
   "outputs": [
    {
     "name": "stdout",
     "output_type": "stream",
     "text": [
      "####################\n",
      "         Renee         \n",
      "####################\n"
     ]
    }
   ],
   "source": [
    "\"cat\" + \"dog\"\n",
    "\"cat\" * 5\n",
    "\"na\" * 8 + \" batman\"\n",
    "\n",
    "print(\"#\" * 20)\n",
    "print(\" \" * 8, \"Renee\", \" \" * 8)\n",
    "print(\"#\" * 20)"
   ]
  },
  {
   "cell_type": "code",
   "execution_count": 16,
   "metadata": {},
   "outputs": [
    {
     "data": {
      "text/plain": [
       "False"
      ]
     },
     "execution_count": 16,
     "metadata": {},
     "output_type": "execute_result"
    }
   ],
   "source": [
    "\"bike\" in \"carpet\""
   ]
  },
  {
   "cell_type": "markdown",
   "metadata": {},
   "source": [
    "## Printing multiple things"
   ]
  },
  {
   "cell_type": "code",
   "execution_count": 28,
   "metadata": {},
   "outputs": [
    {
     "name": "stdout",
     "output_type": "stream",
     "text": [
      "hello\n",
      "helloJack\n",
      "hello Jack how are you  doing $$$$\n"
     ]
    }
   ],
   "source": [
    "print(\"hello\")\n",
    "print(\"hello\" + \"Jack\")\n",
    "print(\"hello\", \"Jack\", \"how are you  doing\", \"$\"*4)"
   ]
  },
  {
   "cell_type": "markdown",
   "metadata": {},
   "source": [
    "## Storing things"
   ]
  },
  {
   "cell_type": "code",
   "execution_count": 36,
   "metadata": {},
   "outputs": [
    {
     "name": "stdout",
     "output_type": "stream",
     "text": [
      "Jack\n",
      "Hi Jack\n",
      "Jack likes Python\n",
      "False\n",
      "nananananananana Jack\n",
      "SuperJack\n"
     ]
    }
   ],
   "source": [
    "name = \"Jack\"\n",
    "print(name)\n",
    "print(\"Hi\", name)\n",
    "print(name, \"likes Python\")\n",
    "\n",
    "print(\"e\" in name)\n",
    "print(\"na\" * 8, name)\n",
    "print(\"Super\" + name)"
   ]
  },
  {
   "cell_type": "code",
   "execution_count": 38,
   "metadata": {},
   "outputs": [
    {
     "name": "stdout",
     "output_type": "stream",
     "text": [
      "3392\n"
     ]
    }
   ],
   "source": [
    "num1 = 64\n",
    "num2 = 53\n",
    "print(num1 * num2)"
   ]
  },
  {
   "cell_type": "code",
   "execution_count": 46,
   "metadata": {},
   "outputs": [
    {
     "name": "stdout",
     "output_type": "stream",
     "text": [
      "Renee is 30 !!!!\n",
      "Renee is 30!!!!\n",
      "Renee is 30!!!!\n"
     ]
    }
   ],
   "source": [
    "name = \"Renee\"\n",
    "age = 30\n",
    "print(name, \"is\", age, \"!!!!\")\n",
    "print(name + \" is \" + str(age) + \"!!!!\")\n",
    "\n",
    "print(f\"{name} is {age}!!!!\")"
   ]
  },
  {
   "cell_type": "markdown",
   "metadata": {},
   "source": [
    "## Different types of \"things\""
   ]
  },
  {
   "cell_type": "code",
   "execution_count": 47,
   "metadata": {},
   "outputs": [
    {
     "name": "stdout",
     "output_type": "stream",
     "text": [
      "11\n"
     ]
    }
   ],
   "source": [
    "a = \"5\"\n",
    "a = int(a)\n",
    "print(a + 6)\n"
   ]
  },
  {
   "cell_type": "code",
   "execution_count": 48,
   "metadata": {},
   "outputs": [
    {
     "name": "stdout",
     "output_type": "stream",
     "text": [
      "5 56\n"
     ]
    }
   ],
   "source": [
    "a = 56\n",
    "b = a\n",
    "a = 5\n",
    "\n",
    "print(a, b)"
   ]
  }
 ],
 "metadata": {
  "interpreter": {
   "hash": "b0fa6594d8f4cbf19f97940f81e996739fb7646882a419484c72d19e05852a7e"
  },
  "kernelspec": {
   "display_name": "Python 3.9.8 64-bit",
   "language": "python",
   "name": "python3"
  },
  "language_info": {
   "codemirror_mode": {
    "name": "ipython",
    "version": 3
   },
   "file_extension": ".py",
   "mimetype": "text/x-python",
   "name": "python",
   "nbconvert_exporter": "python",
   "pygments_lexer": "ipython3",
   "version": "3.9.8"
  },
  "orig_nbformat": 4
 },
 "nbformat": 4,
 "nbformat_minor": 2
}
