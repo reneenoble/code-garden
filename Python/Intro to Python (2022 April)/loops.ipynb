{
 "cells": [
  {
   "cell_type": "markdown",
   "metadata": {},
   "source": [
    "# Loops with strings"
   ]
  },
  {
   "cell_type": "code",
   "execution_count": 6,
   "metadata": {},
   "outputs": [
    {
     "name": "stdout",
     "output_type": "stream",
     "text": [
      "S\n",
      "a\n",
      "r\n",
      "a\n",
      "h\n",
      " \n",
      "i\n",
      "s\n",
      " \n",
      "c\n",
      "o\n",
      "o\n",
      "l\n"
     ]
    }
   ],
   "source": [
    "name = \"Sarah is cool\"\n",
    "\n",
    "for apple in name:\n",
    "    print(apple)"
   ]
  },
  {
   "cell_type": "markdown",
   "metadata": {},
   "source": [
    "# Looping lists"
   ]
  },
  {
   "cell_type": "code",
   "execution_count": 12,
   "metadata": {},
   "outputs": [
    {
     "name": "stdout",
     "output_type": "stream",
     "text": [
      "Yummy apple\n",
      "Yummy pineapple\n",
      "Yummy grape\n"
     ]
    }
   ],
   "source": [
    "fruits = [\"apple\", \"banana\", \"pineapple\", \"grape\"]\n",
    "\n",
    "for fruit in fruits:\n",
    "    if \"p\" in fruit:\n",
    "        print(\"Yummy\", fruit)"
   ]
  },
  {
   "cell_type": "markdown",
   "metadata": {},
   "source": [
    "# Looping with Dictionaries"
   ]
  },
  {
   "cell_type": "code",
   "execution_count": 13,
   "metadata": {},
   "outputs": [
    {
     "name": "stdout",
     "output_type": "stream",
     "text": [
      "Hi Renee\n",
      "Hi Michelle\n",
      "Hi Zach\n"
     ]
    }
   ],
   "source": [
    "home_towns =   {\"Renee\": \"Sydney\", \n",
    "                \"Michelle\": \"Perth\", \n",
    "                \"Zach\": \"Melbourne\"}\n",
    "\n",
    "for name in home_towns:\n",
    "    print(\"Hi\", name)"
   ]
  },
  {
   "cell_type": "code",
   "execution_count": 14,
   "metadata": {},
   "outputs": [
    {
     "name": "stdout",
     "output_type": "stream",
     "text": [
      "('Renee', 'Sydney')\n",
      "('Michelle', 'Perth')\n",
      "('Zach', 'Melbourne')\n"
     ]
    }
   ],
   "source": [
    "home_towns =   {\"Renee\": \"Sydney\", \n",
    "                \"Michelle\": \"Perth\", \n",
    "                \"Zach\": \"Melbourne\"}\n",
    "\n",
    "for pair in home_towns.items():\n",
    "    print(pair)"
   ]
  },
  {
   "cell_type": "code",
   "execution_count": 17,
   "metadata": {},
   "outputs": [
    {
     "name": "stdout",
     "output_type": "stream",
     "text": [
      "Sydney\n",
      "Perth\n",
      "Melbourne\n",
      "dict_items([('Renee', 'Sydney'), ('Michelle', 'Perth'), ('Zach', 'Melbourne')])\n"
     ]
    }
   ],
   "source": [
    "home_towns =   {\"Renee\": \"Sydney\", \n",
    "                \"Michelle\": \"Perth\", \n",
    "                \"Zach\": \"Melbourne\"}\n",
    "\n",
    "\n",
    "for city in home_towns.values():\n",
    "    print(city)\n"
   ]
  },
  {
   "cell_type": "code",
   "execution_count": 20,
   "metadata": {},
   "outputs": [
    {
     "name": "stdout",
     "output_type": "stream",
     "text": [
      "5 apples\n",
      "2 pineapples\n",
      "10 bananas\n"
     ]
    }
   ],
   "source": [
    "counts = [(\"apple\", 5), (\"pineapple\", 2), ((\"banana\", 10))]\n",
    "\n",
    "for fruit, num in counts:\n",
    "    print(f'{num} {fruit}s')"
   ]
  },
  {
   "cell_type": "markdown",
   "metadata": {},
   "source": [
    "# Looping with numbers"
   ]
  },
  {
   "cell_type": "code",
   "execution_count": 26,
   "metadata": {},
   "outputs": [
    {
     "name": "stdout",
     "output_type": "stream",
     "text": [
      "1\n",
      "3\n",
      "5\n",
      "[0, 1, 2, 3, 4]\n"
     ]
    }
   ],
   "source": [
    "for num in range(1, 6, 2):\n",
    "    print(num)\n",
    "\n",
    "# print(list(range(5)))"
   ]
  },
  {
   "cell_type": "code",
   "execution_count": 27,
   "metadata": {},
   "outputs": [
    {
     "name": "stdout",
     "output_type": "stream",
     "text": [
      "Hello!\n",
      "Hello!\n",
      "Hello!\n",
      "Hello!\n",
      "Hello!\n"
     ]
    }
   ],
   "source": [
    "for i in range(5):\n",
    "    print(\"Hello!\")"
   ]
  },
  {
   "cell_type": "markdown",
   "metadata": {},
   "source": [
    "# Variables in range"
   ]
  },
  {
   "cell_type": "code",
   "execution_count": 28,
   "metadata": {},
   "outputs": [
    {
     "name": "stdout",
     "output_type": "stream",
     "text": [
      "Your turn!\n",
      "Your turn!\n",
      "Your turn!\n",
      "Your turn!\n",
      "Your turn!\n"
     ]
    }
   ],
   "source": [
    "turns = 5\n",
    "\n",
    "for i in range(turns):\n",
    "    print(\"Your turn!\")"
   ]
  },
  {
   "cell_type": "code",
   "execution_count": 29,
   "metadata": {},
   "outputs": [
    {
     "name": "stdout",
     "output_type": "stream",
     "text": [
      "Place: ______________\n",
      "Place: ______________\n",
      "Place: ______________\n",
      "Place: ______________\n"
     ]
    }
   ],
   "source": [
    "places = [\"Sydney\", \"Canberra\", \"Perth\", \"Melbourne\"]\n",
    "\n",
    "for i in range(len(places)):\n",
    "    print((\"Place: ______________\"))"
   ]
  },
  {
   "cell_type": "markdown",
   "metadata": {},
   "source": [
    "# Enumerate"
   ]
  },
  {
   "cell_type": "code",
   "execution_count": 31,
   "metadata": {},
   "outputs": [
    {
     "name": "stdout",
     "output_type": "stream",
     "text": [
      "1: mango\n",
      "2: blueberry\n",
      "3: strawberry\n"
     ]
    }
   ],
   "source": [
    "favourites = [\"mango\", \"blueberry\", \"strawberry\"]\n",
    "\n",
    "for i, fruit in enumerate(favourites):\n",
    "    print(f\"{i + 1}: {fruit}\")"
   ]
  },
  {
   "cell_type": "markdown",
   "metadata": {},
   "source": []
  }
 ],
 "metadata": {
  "interpreter": {
   "hash": "b0fa6594d8f4cbf19f97940f81e996739fb7646882a419484c72d19e05852a7e"
  },
  "kernelspec": {
   "display_name": "Python 3.9.8 64-bit",
   "language": "python",
   "name": "python3"
  },
  "language_info": {
   "codemirror_mode": {
    "name": "ipython",
    "version": 3
   },
   "file_extension": ".py",
   "mimetype": "text/x-python",
   "name": "python",
   "nbconvert_exporter": "python",
   "pygments_lexer": "ipython3",
   "version": "3.9.8"
  },
  "orig_nbformat": 4
 },
 "nbformat": 4,
 "nbformat_minor": 2
}
