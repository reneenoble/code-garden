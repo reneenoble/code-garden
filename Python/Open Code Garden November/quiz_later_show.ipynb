{
 "cells": [
  {
   "cell_type": "code",
   "execution_count": 1,
   "metadata": {},
   "outputs": [
    {
     "name": "stdout",
     "output_type": "stream",
     "text": [
      "Hello, Contosoville!\n"
     ]
    }
   ],
   "source": [
    "print( \"Hello, Contosoville!\" )\n",
    "# this is a comment that won't be interpreted as a command"
   ]
  },
  {
   "cell_type": "code",
   "execution_count": 11,
   "metadata": {},
   "outputs": [
    {
     "name": "stdout",
     "output_type": "stream",
     "text": [
      "The year is 1990...\n"
     ]
    }
   ],
   "source": [
    "# use a variable named year to \"remember\" the value 1990\n",
    "year = 1990\n",
    "\n",
    "# print a message to see what year it is\n",
    "print( f\"The year is {year}...\" )"
   ]
  },
  {
   "cell_type": "code",
   "execution_count": 13,
   "metadata": {},
   "outputs": [
    {
     "name": "stdout",
     "output_type": "stream",
     "text": [
      "The year is now 2026...\n"
     ]
    }
   ],
   "source": [
    "# year = year + 36\n",
    "year += 36\n",
    "\n",
    "# print a message to see what year it is now\n",
    "print( f\"The year is now {year}...\" )"
   ]
  },
  {
   "cell_type": "code",
   "execution_count": 14,
   "metadata": {},
   "outputs": [
    {
     "name": "stdout",
     "output_type": "stream",
     "text": [
      "I sent you a text message!\n"
     ]
    }
   ],
   "source": [
    "# if we're in 1990\n",
    "if year == 1990:\n",
    "    print( \"I left you a message on your answering machine!\" )\n",
    "# if we're in 2026\n",
    "if year == 2026:\n",
    "    print( \"I sent you a text message!\" )"
   ]
  }
 ],
 "metadata": {
  "kernelspec": {
   "display_name": "Python 3.9.13 64-bit",
   "language": "python",
   "name": "python3"
  },
  "language_info": {
   "codemirror_mode": {
    "name": "ipython",
    "version": 3
   },
   "file_extension": ".py",
   "mimetype": "text/x-python",
   "name": "python",
   "nbconvert_exporter": "python",
   "pygments_lexer": "ipython3",
   "version": "3.9.13"
  },
  "orig_nbformat": 4,
  "vscode": {
   "interpreter": {
    "hash": "a0820167192a0f8e5b5d75b09b4662218b53e0ef2bbcf14191e112b7c64612ca"
   }
  }
 },
 "nbformat": 4,
 "nbformat_minor": 2
}
