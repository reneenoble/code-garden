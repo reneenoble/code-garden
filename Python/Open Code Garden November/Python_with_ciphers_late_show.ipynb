{
 "cells": [
  {
   "cell_type": "markdown",
   "metadata": {},
   "source": [
    "## Ceasar Cipher Decoder"
   ]
  },
  {
   "cell_type": "code",
   "execution_count": 10,
   "metadata": {},
   "outputs": [
    {
     "name": "stdout",
     "output_type": "stream",
     "text": [
      "Hello, Jack\n",
      "Hello, Jack\n",
      "Hello, Jack\n"
     ]
    }
   ],
   "source": [
    "# Welcome the code gardeners\n",
    "name = \"Jack\"\n",
    "\n",
    "print( \"Hello, \" + name )\n",
    "print( \"Hello, \" + name )\n",
    "print( \"Hello, \" + name )"
   ]
  },
  {
   "cell_type": "code",
   "execution_count": 12,
   "metadata": {},
   "outputs": [
    {
     "name": "stdout",
     "output_type": "stream",
     "text": [
      "Yay!Yay!Yay!\n"
     ]
    }
   ],
   "source": [
    "# Define a power (function) to chant a phrase\n",
    "def chant( phrase ):\n",
    "    # Glue three copies together and print it as a message\n",
    "    print( phrase + phrase + phrase )\n",
    "\n",
    "chant(\"Yay!\")\n",
    "\n"
   ]
  },
  {
   "cell_type": "code",
   "execution_count": 17,
   "metadata": {},
   "outputs": [
    {
     "name": "stdout",
     "output_type": "stream",
     "text": [
      "3\n",
      "hello Srh\n"
     ]
    }
   ],
   "source": [
    "def devowel(word):\n",
    "    devowled_word = \"\"\n",
    "    for letter in word:\n",
    "        if letter not in \"aeiouAEIOU\":\n",
    "            devowled_word = devowled_word + letter\n",
    "    \n",
    "    return devowled_word\n",
    "\n",
    "no_v = devowel(\"Sarah\")\n",
    "print((len(no_v)))\n",
    "print(\"hello\", no_v)"
   ]
  },
  {
   "cell_type": "code",
   "execution_count": 32,
   "metadata": {},
   "outputs": [
    {
     "name": "stdout",
     "output_type": "stream",
     "text": [
      "ok....\n",
      "next name\n"
     ]
    }
   ],
   "source": [
    "name = \"jack\"\n",
    "\n",
    "if \"r\" in name:\n",
    "    print(\"Great name\")\n",
    "else:\n",
    "    print(\"ok....\")\n",
    "\n",
    "print(\"next name\")\n"
   ]
  },
  {
   "cell_type": "code",
   "execution_count": 46,
   "metadata": {},
   "outputs": [
    {
     "name": "stdout",
     "output_type": "stream",
     "text": [
      "e\n"
     ]
    }
   ],
   "source": [
    "# The ASCII number representation of lowercase letter 'a'\n",
    "a_ASCII = ord('a')\n",
    "\n",
    "# The number of letters in the alphabet\n",
    "ALPHABET_SIZE = 26\n",
    "\n",
    "def lasso_letter( letter, shift_amount ):    \n",
    "    letter_code = ord(letter.lower())\n",
    "    decoded_letter_code = letter_code + shift_amount\n",
    "    decoded_letter_code = (decoded_letter_code - a_ASCII) % ALPHABET_SIZE + a_ASCII\n",
    "    decoded_letter = chr(decoded_letter_code)\n",
    "    return decoded_letter\n",
    "\n",
    "\n",
    "decoded_letter = lasso_letter('y', 6)\n",
    "print(decoded_letter)"
   ]
  },
  {
   "cell_type": "markdown",
   "metadata": {},
   "source": [
    "z -> 122\n",
    "rotate by 2\n",
    "124, how do we we get to 98?\n",
    "\n",
    "(letter_code + shift - 97) % 26\n",
    "num = 1 + 97\n",
    "get the chr\n",
    "\n"
   ]
  },
  {
   "cell_type": "code",
   "execution_count": 48,
   "metadata": {},
   "outputs": [
    {
     "name": "stdout",
     "output_type": "stream",
     "text": [
      "april\n"
     ]
    }
   ],
   "source": [
    "def lasso_word( word, shift_amount ):\n",
    "    decoded_word = \"\"\n",
    "    for letter in word:\n",
    "       decoded_word += lasso_letter( letter, shift_amount )\n",
    "    return decoded_word\n",
    "\n",
    "decoded = lasso_word( \"ncevy\", 13 )\n",
    "print(decoded)"
   ]
  },
  {
   "cell_type": "code",
   "execution_count": 50,
   "metadata": {},
   "outputs": [
    {
     "data": {
      "text/plain": [
       "'f'"
      ]
     },
     "execution_count": 50,
     "metadata": {},
     "output_type": "execute_result"
    }
   ],
   "source": [
    "letters = \"abcdefghij.....\"\n",
    "\n",
    "letters.index(\"d\")\n",
    "letters[5]"
   ]
  },
  {
   "cell_type": "code",
   "execution_count": 52,
   "metadata": {},
   "outputs": [
    {
     "name": "stdout",
     "output_type": "stream",
     "text": [
      "Shifting Ncevy by 13 gives: \n",
      "april\n",
      "Shifting gpvsui by 25 gives: \n",
      "fourth\n",
      "Shifting ugflgkg by -18 gives: \n",
      "contoso\n",
      "Shifting wjmmf by -1 gives: \n",
      "ville\n"
     ]
    }
   ],
   "source": [
    "print( \"Shifting Ncevy by 13 gives: \\n\" + lasso_word( \"Ncevy\", 13 ) )\n",
    "print( \"Shifting gpvsui by 25 gives: \\n\" + lasso_word( \"gpvsui\", 25 ) )\n",
    "print( \"Shifting ugflgkg by -18 gives: \\n\" + lasso_word( \"ugflgkg\", -18 ) )\n",
    "print( \"Shifting wjmmf by -1 gives: \\n\" + lasso_word( \"wjmmf\", -1 ) )"
   ]
  }
 ],
 "metadata": {
  "kernelspec": {
   "display_name": "Python 3.9.13 64-bit",
   "language": "python",
   "name": "python3"
  },
  "language_info": {
   "codemirror_mode": {
    "name": "ipython",
    "version": 3
   },
   "file_extension": ".py",
   "mimetype": "text/x-python",
   "name": "python",
   "nbconvert_exporter": "python",
   "pygments_lexer": "ipython3",
   "version": "3.9.13"
  },
  "orig_nbformat": 4,
  "vscode": {
   "interpreter": {
    "hash": "b0fa6594d8f4cbf19f97940f81e996739fb7646882a419484c72d19e05852a7e"
   }
  }
 },
 "nbformat": 4,
 "nbformat_minor": 2
}
