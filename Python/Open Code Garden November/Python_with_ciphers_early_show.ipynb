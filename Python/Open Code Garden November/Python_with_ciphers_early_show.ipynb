{
 "cells": [
  {
   "cell_type": "markdown",
   "metadata": {},
   "source": [
    "## Decryption program"
   ]
  },
  {
   "cell_type": "code",
   "execution_count": 4,
   "metadata": {},
   "outputs": [
    {
     "name": "stdout",
     "output_type": "stream",
     "text": [
      "Hello, Code Gardeners!\n"
     ]
    }
   ],
   "source": [
    "# Practice print\n",
    "\n",
    "print( \"Hello, Code Gardeners!\" )\n",
    "\n"
   ]
  },
  {
   "cell_type": "code",
   "execution_count": 7,
   "metadata": {},
   "outputs": [
    {
     "name": "stdout",
     "output_type": "stream",
     "text": [
      "Hello, Code Gardeners\n",
      "Hello, Code Gardeners\n",
      "Hello, Code Gardeners\n"
     ]
    }
   ],
   "source": [
    "name = \"Code Gardeners\"\n",
    "print(\"Hello, \" + name)\n"
   ]
  },
  {
   "cell_type": "code",
   "execution_count": 9,
   "metadata": {},
   "outputs": [
    {
     "name": "stdout",
     "output_type": "stream",
     "text": [
      "Contosoville! Contosoville! Contosoville!\n"
     ]
    }
   ],
   "source": [
    "# Define a power (function) to chant a phrase\n",
    "def chant( phrase ):\n",
    "    # Glue three copies together and print it as a message\n",
    "    print( phrase + \" \" + phrase +  \" \" + phrase )\n",
    "\n",
    "\n",
    "chant( \"Contosoville!\" )"
   ]
  },
  {
   "cell_type": "code",
   "execution_count": 13,
   "metadata": {},
   "outputs": [
    {
     "name": "stdout",
     "output_type": "stream",
     "text": [
      "Srh hello\n"
     ]
    }
   ],
   "source": [
    "def str_no_vowels(word):\n",
    "    no_v = \"\"\n",
    "    for letter in word:\n",
    "        if letter not in \"aeiouAEIOU\":\n",
    "            no_v = no_v + letter\n",
    "    return no_v\n",
    "\n",
    "devowled = str_no_vowels(\"Sarah\")\n",
    "print(devowled + \" hello\")"
   ]
  },
  {
   "cell_type": "code",
   "execution_count": 40,
   "metadata": {},
   "outputs": [
    {
     "name": "stdout",
     "output_type": "stream",
     "text": [
      "b\n"
     ]
    }
   ],
   "source": [
    "# The ASCII number representation of lowercase letter 'a'\n",
    "a_ASCII = ord('a')\n",
    "\n",
    "# The number of letters in the alphabet\n",
    "ALPHABET_SIZE = 26\n",
    "\n",
    "# Define a function to find the truth by shifting the letter by the specified amount\n",
    "def lasso_letter( letter, shift_amount ):\n",
    "    # Invoke the ord function to translate the letter to its ASCII code \n",
    "    # Save the code to the letter_code variable\n",
    "    letter_code = ord(letter.lower())\n",
    "    \n",
    "    # The formula to calculate the ASCII number for the decoded letter\n",
    "    # Take into account looping around the alphabet\n",
    "    true_letter_code = a_ASCII + (((letter_code - a_ASCII) + shift_amount) % ALPHABET_SIZE)\n",
    "\n",
    "    # Convert the ASCII number to the character or letter\n",
    "    decoded_letter = chr(true_letter_code)\n",
    "\n",
    "    # Send the decoded letter back\n",
    "    return decoded_letter\n",
    "\n",
    "letter = lasso_letter(\"y\", 3)\n",
    "print(letter)"
   ]
  },
  {
   "cell_type": "code",
   "execution_count": 43,
   "metadata": {},
   "outputs": [
    {
     "name": "stdout",
     "output_type": "stream",
     "text": [
      "april\n",
      "Shifting terra by 13 gives: \n",
      "green\n"
     ]
    }
   ],
   "source": [
    "def lasso_word(word, shift_amount):\n",
    "    decoded_word = \"\"\n",
    "    for letter in word:\n",
    "        decoded_letter = lasso_letter( letter, shift_amount )\n",
    "        decoded_word += decoded_letter\n",
    "    return decoded_word\n",
    "\n",
    "print(lasso_word(\"ncevy\", 13))\n",
    "print( \"Shifting terra by 13 gives: \\n\" + lasso_word( \"terra\", 13 ) )\n",
    "\n"
   ]
  },
  {
   "cell_type": "code",
   "execution_count": 48,
   "metadata": {},
   "outputs": [
    {
     "name": "stdout",
     "output_type": "stream",
     "text": [
      "Shifting Ncevy by 13 gives:\n",
      "april\n",
      "Shifting gpvsui by 25 gives: \n",
      "fourth\n",
      "Shifting ugflgkg by -18 gives: \n",
      "contoso\n",
      "Shifting wjmmf by -1 gives: \n",
      "ville\n"
     ]
    }
   ],
   "source": [
    "word = \"Ncevy\"\n",
    "jump = 13\n",
    "answer = lasso_word( word, jump )\n",
    "\n",
    "print(f'Shifting {word} by {jump} gives:\\n{answer}')\n",
    "\n",
    "print( \"Shifting gpvsui by 25 gives: \\n\" + lasso_word( \"gpvsui\", 25 ) )\n",
    "print( \"Shifting ugflgkg by -18 gives: \\n\" + lasso_word( \"ugflgkg\", -18 ) )\n",
    "print( \"Shifting wjmmf by -1 gives: \\n\" + lasso_word( \"wjmmf\", -1 ) )"
   ]
  },
  {
   "cell_type": "markdown",
   "metadata": {},
   "source": []
  }
 ],
 "metadata": {
  "kernelspec": {
   "display_name": "Python 3.9.13 64-bit",
   "language": "python",
   "name": "python3"
  },
  "language_info": {
   "codemirror_mode": {
    "name": "ipython",
    "version": 3
   },
   "file_extension": ".py",
   "mimetype": "text/x-python",
   "name": "python",
   "nbconvert_exporter": "python",
   "pygments_lexer": "ipython3",
   "version": "3.9.13"
  },
  "orig_nbformat": 4,
  "vscode": {
   "interpreter": {
    "hash": "b0fa6594d8f4cbf19f97940f81e996739fb7646882a419484c72d19e05852a7e"
   }
  }
 },
 "nbformat": 4,
 "nbformat_minor": 2
}
