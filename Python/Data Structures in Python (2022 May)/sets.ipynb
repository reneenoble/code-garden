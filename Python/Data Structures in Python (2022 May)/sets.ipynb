{
 "cells": [
  {
   "cell_type": "markdown",
   "metadata": {},
   "source": [
    "## Making a set"
   ]
  },
  {
   "cell_type": "code",
   "execution_count": 4,
   "metadata": {},
   "outputs": [
    {
     "name": "stdout",
     "output_type": "stream",
     "text": [
      "<class 'set'>\n"
     ]
    }
   ],
   "source": [
    "# Make a set with things in it\n",
    "fruits = {\"apple\", \"grapes\", \"banana\"}\n",
    "print(type(fruits))\n"
   ]
  },
  {
   "cell_type": "code",
   "execution_count": 6,
   "metadata": {},
   "outputs": [
    {
     "name": "stdout",
     "output_type": "stream",
     "text": [
      "{'bannana', 'grapes', 'apple'}\n",
      "False\n"
     ]
    }
   ],
   "source": [
    "# Turn a list into a set\n",
    "\n",
    "fruits = [\"apple\", \"apple\", \"bannana\", \"apple\", \"grapes\"]\n",
    "set_fruit = set(fruits)\n",
    "\n",
    "print(set_fruit)\n",
    "\n",
    "print(len(set_fruit) == len(fruits))\n"
   ]
  },
  {
   "cell_type": "markdown",
   "metadata": {},
   "source": [
    "# Finding an item"
   ]
  },
  {
   "cell_type": "code",
   "execution_count": 8,
   "metadata": {},
   "outputs": [
    {
     "name": "stdout",
     "output_type": "stream",
     "text": [
      "True\n",
      "False\n"
     ]
    }
   ],
   "source": [
    "guests = {\"Sally\", \"Faye\", \"Clara\"}\n",
    "\n",
    "print(\"Clara\" in guests)\n",
    "print(\"Sarah\" in guests)\n"
   ]
  },
  {
   "cell_type": "markdown",
   "metadata": {},
   "source": [
    "## Add/remove to a set"
   ]
  },
  {
   "cell_type": "code",
   "execution_count": 9,
   "metadata": {},
   "outputs": [
    {
     "name": "stdout",
     "output_type": "stream",
     "text": [
      "{'Beth', 'Tina'}\n"
     ]
    }
   ],
   "source": [
    "guests = set()\n",
    "\n",
    "guests.add(\"Beth\")\n",
    "guests.add(\"Tina\")\n",
    "\n",
    "print(guests)"
   ]
  },
  {
   "cell_type": "code",
   "execution_count": 10,
   "metadata": {},
   "outputs": [
    {
     "name": "stdout",
     "output_type": "stream",
     "text": [
      "{'Faye', 'Clara'}\n"
     ]
    }
   ],
   "source": [
    "guests = {\"Sally\", \"Faye\", \"Clara\"}\n",
    "\n",
    "guests.remove(\"Sally\")\n",
    "\n",
    "print(guests)"
   ]
  },
  {
   "cell_type": "code",
   "execution_count": 18,
   "metadata": {},
   "outputs": [
    {
     "name": "stdout",
     "output_type": "stream",
     "text": [
      "{'Faye', 'Ben', 'Steve', 'Sally', 'Clara', 'Jack'}\n"
     ]
    }
   ],
   "source": [
    "anna_guests = {\"Sally\", \"Faye\", \"Clara\"}\n",
    "bob_guests = {\"Jack\", \"Ben\", \"Steve\", \"Sally\"}\n",
    "\n",
    "anna_guests.update(bob_guests)\n",
    "print(anna_guests)"
   ]
  },
  {
   "cell_type": "markdown",
   "metadata": {},
   "source": [
    "# Set Methods"
   ]
  },
  {
   "cell_type": "code",
   "execution_count": 20,
   "metadata": {},
   "outputs": [
    {
     "name": "stdout",
     "output_type": "stream",
     "text": [
      "{'Faye', 'Ben', 'Steve', 'Sally', 'Clara', 'Jack'}\n"
     ]
    }
   ],
   "source": [
    "# Union\n",
    "\n",
    "anna_guests = {\"Sally\", \"Faye\", \"Clara\"}\n",
    "bob_guests = {\"Jack\", \"Ben\", \"Steve\", \"Sally\"}\n",
    "\n",
    "total_guests = anna_guests.union(bob_guests)\n",
    "print(total_guests)\n"
   ]
  },
  {
   "cell_type": "code",
   "execution_count": 21,
   "metadata": {},
   "outputs": [
    {
     "name": "stdout",
     "output_type": "stream",
     "text": [
      "{'Sally', 'Ben', 'Jack'}\n"
     ]
    }
   ],
   "source": [
    "# Intersection\n",
    "\n",
    "anna_guests = {\"Sally\", \"Faye\", \"Clara\", \"Jack\", \"Ben\"}\n",
    "bob_guests = {\"Jack\", \"Ben\", \"Steve\", \"Mike\", \"Sally\"}\n",
    "\n",
    "both_guests = anna_guests.intersection(bob_guests)\n",
    "print(both_guests)"
   ]
  },
  {
   "cell_type": "code",
   "execution_count": 22,
   "metadata": {},
   "outputs": [
    {
     "name": "stdout",
     "output_type": "stream",
     "text": [
      "{'Faye', 'Mike', 'Steve', 'Clara'}\n"
     ]
    }
   ],
   "source": [
    "anna_guests = {\"Sally\", \"Faye\", \"Clara\", \"Jack\", \"Ben\"}\n",
    "bob_guests = {\"Jack\", \"Ben\", \"Steve\", \"Mike\", \"Sally\"}\n",
    "\n",
    "sym_diff = anna_guests.symmetric_difference(bob_guests)\n",
    "print(sym_diff)"
   ]
  },
  {
   "cell_type": "code",
   "execution_count": 23,
   "metadata": {},
   "outputs": [
    {
     "name": "stdout",
     "output_type": "stream",
     "text": [
      "{'Faye', 'Clara'}\n"
     ]
    }
   ],
   "source": [
    "anna_guests = {\"Sally\", \"Faye\", \"Clara\", \"Jack\", \"Ben\"}\n",
    "bob_guests = {\"Jack\", \"Ben\", \"Steve\", \"Mike\", \"Sally\"}\n",
    "\n",
    "disliked_friends = anna_guests.difference(bob_guests)\n",
    "print(disliked_friends)"
   ]
  },
  {
   "cell_type": "code",
   "execution_count": 24,
   "metadata": {},
   "outputs": [
    {
     "name": "stdout",
     "output_type": "stream",
     "text": [
      "{'Steve', 'Mike'}\n"
     ]
    }
   ],
   "source": [
    "anna_guests = {\"Sally\", \"Faye\", \"Clara\", \"Jack\", \"Ben\"}\n",
    "bob_guests = {\"Jack\", \"Ben\", \"Steve\", \"Mike\", \"Sally\"}\n",
    "\n",
    "disliked_friends = bob_guests.difference(anna_guests)\n",
    "print(disliked_friends)"
   ]
  },
  {
   "cell_type": "markdown",
   "metadata": {},
   "source": [
    "## Updating with set methods"
   ]
  },
  {
   "cell_type": "code",
   "execution_count": 25,
   "metadata": {},
   "outputs": [
    {
     "name": "stdout",
     "output_type": "stream",
     "text": [
      "{'Faye', 'Steve', 'Clara', 'Mike'}\n"
     ]
    }
   ],
   "source": [
    "anna_guests = {\"Sally\", \"Faye\", \"Clara\", \"Jack\", \"Ben\"}\n",
    "bob_guests = {\"Jack\", \"Ben\", \"Steve\", \"Mike\", \"Sally\"}\n",
    "\n",
    "anna_guests.symmetric_difference_update(bob_guests)\n",
    "print(anna_guests)\n"
   ]
  }
 ],
 "metadata": {
  "interpreter": {
   "hash": "b0fa6594d8f4cbf19f97940f81e996739fb7646882a419484c72d19e05852a7e"
  },
  "kernelspec": {
   "display_name": "Python 3.9.8 64-bit",
   "language": "python",
   "name": "python3"
  },
  "language_info": {
   "codemirror_mode": {
    "name": "ipython",
    "version": 3
   },
   "file_extension": ".py",
   "mimetype": "text/x-python",
   "name": "python",
   "nbconvert_exporter": "python",
   "pygments_lexer": "ipython3",
   "version": "3.9.8"
  },
  "orig_nbformat": 4
 },
 "nbformat": 4,
 "nbformat_minor": 2
}
