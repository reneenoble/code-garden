{
 "cells": [
  {
   "cell_type": "markdown",
   "metadata": {},
   "source": [
    "# Create a list or tuples"
   ]
  },
  {
   "cell_type": "code",
   "execution_count": 6,
   "metadata": {},
   "outputs": [
    {
     "name": "stdout",
     "output_type": "stream",
     "text": [
      "['apple', 'peach', 'kiwi']\n",
      "[1, 2, 3]\n",
      "(-160, 42, 200)\n",
      "['h', 'e', 'l', 'l', 'o']\n",
      "('h', 'e', 'l', 'l', 'o')\n"
     ]
    }
   ],
   "source": [
    "# making lists\n",
    "my_fruit_list = [\"apple\", \"peach\", \"kiwi\"]\n",
    "print(my_fruit_list)\n",
    "\n",
    "my_numbers = [1,2,3]\n",
    "print(my_numbers)\n",
    "\n",
    "my_lat_long_alt = (-160, 42, 200)\n",
    "print(my_lat_long_alt)\n",
    "\n",
    "my_letters = list(\"hello\")\n",
    "print(my_letters)\n",
    "my_letters = tuple(\"hello\")\n",
    "print(my_letters)"
   ]
  },
  {
   "cell_type": "markdown",
   "metadata": {},
   "source": [
    "## Making a single item list of tuple"
   ]
  },
  {
   "cell_type": "code",
   "execution_count": 8,
   "metadata": {},
   "outputs": [
    {
     "name": "stdout",
     "output_type": "stream",
     "text": [
      "('cat',)\n"
     ]
    }
   ],
   "source": [
    "a_list = [\"cat\"]\n",
    "a_tuple = (\"cat\",)\n",
    "print(a_tuple)\n"
   ]
  },
  {
   "cell_type": "markdown",
   "metadata": {},
   "source": [
    "# Looping through lists and tuples "
   ]
  },
  {
   "cell_type": "code",
   "execution_count": 9,
   "metadata": {},
   "outputs": [
    {
     "name": "stdout",
     "output_type": "stream",
     "text": [
      "Yum apple\n",
      "Yum peach\n",
      "Yum kiwi\n"
     ]
    }
   ],
   "source": [
    "for fruit in my_fruit_list:\n",
    "    print(\"Yum\", fruit)"
   ]
  },
  {
   "cell_type": "code",
   "execution_count": 10,
   "metadata": {},
   "outputs": [
    {
     "name": "stdout",
     "output_type": "stream",
     "text": [
      "-160\n",
      "42\n",
      "200\n"
     ]
    }
   ],
   "source": [
    "for coord in my_lat_long_alt:\n",
    "    print(coord)"
   ]
  },
  {
   "cell_type": "markdown",
   "metadata": {},
   "source": [
    "# Looking up with indexes"
   ]
  },
  {
   "cell_type": "code",
   "execution_count": 11,
   "metadata": {},
   "outputs": [
    {
     "name": "stdout",
     "output_type": "stream",
     "text": [
      "apple\n",
      "orange\n",
      "kiwi\n",
      "['apple', 'peach', 'kiwi']\n"
     ]
    }
   ],
   "source": [
    "best_fruits = [\"apple\", \"peach\", \"kiwi\", \"grapes\", \"orange\"]\n",
    "print(best_fruits[0])\n",
    "print(best_fruits[-1])\n",
    "print(best_fruits[2])\n",
    "print(best_fruits[0:3])"
   ]
  },
  {
   "cell_type": "code",
   "execution_count": 12,
   "metadata": {},
   "outputs": [
    {
     "name": "stdout",
     "output_type": "stream",
     "text": [
      "Renee\n",
      "0411111111\n"
     ]
    }
   ],
   "source": [
    "contact_details = (\"Renee\", \"Noble\", \"0411111111\")\n",
    "print(contact_details[0])\n",
    "print(contact_details[2])"
   ]
  },
  {
   "cell_type": "markdown",
   "metadata": {},
   "source": [
    "# Updating those indexes"
   ]
  },
  {
   "cell_type": "code",
   "execution_count": 13,
   "metadata": {},
   "outputs": [
    {
     "name": "stdout",
     "output_type": "stream",
     "text": [
      "['lemon', 'peach', 'kiwi', 'grapes', 'orange']\n"
     ]
    }
   ],
   "source": [
    "best_fruits = [\"apple\", \"peach\", \"kiwi\", \"grapes\", \"orange\"]\n",
    "best_fruits[0] = \"lemon\"\n",
    "print(best_fruits)\n"
   ]
  },
  {
   "cell_type": "code",
   "execution_count": 14,
   "metadata": {},
   "outputs": [
    {
     "ename": "TypeError",
     "evalue": "'tuple' object does not support item assignment",
     "output_type": "error",
     "traceback": [
      "\u001b[0;31m---------------------------------------------------------------------------\u001b[0m",
      "\u001b[0;31mTypeError\u001b[0m                                 Traceback (most recent call last)",
      "\u001b[0;32m/var/folders/qf/r359rl1n7pzd0jqq0qzhnj500000gn/T/ipykernel_18985/2124555418.py\u001b[0m in \u001b[0;36m<module>\u001b[0;34m\u001b[0m\n\u001b[1;32m      1\u001b[0m \u001b[0mcontact_details\u001b[0m \u001b[0;34m=\u001b[0m \u001b[0;34m(\u001b[0m\u001b[0;34m\"Renee\"\u001b[0m\u001b[0;34m,\u001b[0m \u001b[0;34m\"Noble\"\u001b[0m\u001b[0;34m,\u001b[0m \u001b[0;34m\"0411111111\"\u001b[0m\u001b[0;34m)\u001b[0m\u001b[0;34m\u001b[0m\u001b[0;34m\u001b[0m\u001b[0m\n\u001b[0;32m----> 2\u001b[0;31m \u001b[0mcontact_details\u001b[0m\u001b[0;34m[\u001b[0m\u001b[0;36m0\u001b[0m\u001b[0;34m]\u001b[0m \u001b[0;34m=\u001b[0m \u001b[0;34m\"Reeeeeneeee\"\u001b[0m\u001b[0;34m\u001b[0m\u001b[0;34m\u001b[0m\u001b[0m\n\u001b[0m",
      "\u001b[0;31mTypeError\u001b[0m: 'tuple' object does not support item assignment"
     ]
    }
   ],
   "source": [
    "contact_details = (\"Renee\", \"Noble\", \"0411111111\")\n",
    "contact_details[0] = \"Reeeeeneeee\""
   ]
  },
  {
   "cell_type": "markdown",
   "metadata": {},
   "source": [
    "# Updating lists"
   ]
  },
  {
   "cell_type": "markdown",
   "metadata": {},
   "source": [
    "### Edit a list"
   ]
  },
  {
   "cell_type": "code",
   "execution_count": 15,
   "metadata": {},
   "outputs": [
    {
     "name": "stdout",
     "output_type": "stream",
     "text": [
      "['lemon', 'peach', 'kiwi', 'grapes', 'banana']\n"
     ]
    }
   ],
   "source": [
    "best_fruits = [\"apple\", \"peach\", \"kiwi\", \"grapes\", \"orange\"]\n",
    "best_fruits[0] = \"lemon\"\n",
    "best_fruits[-1] = \"banana\"\n",
    "print(best_fruits)"
   ]
  },
  {
   "cell_type": "markdown",
   "metadata": {},
   "source": [
    "### Add to the end of a list (append)"
   ]
  },
  {
   "cell_type": "code",
   "execution_count": 16,
   "metadata": {},
   "outputs": [
    {
     "name": "stdout",
     "output_type": "stream",
     "text": [
      "['apple', 'peach', 'kiwi', 'grapes', 'orange', 'strawberry']\n"
     ]
    }
   ],
   "source": [
    "best_fruits = [\"apple\", \"peach\", \"kiwi\", \"grapes\", \"orange\"]\n",
    "best_fruits.append(\"strawberry\")\n",
    "print(best_fruits)\n"
   ]
  },
  {
   "cell_type": "markdown",
   "metadata": {},
   "source": [
    "### Remove an item from a list"
   ]
  },
  {
   "cell_type": "code",
   "execution_count": 23,
   "metadata": {},
   "outputs": [
    {
     "ename": "ValueError",
     "evalue": "list.remove(x): x not in list",
     "output_type": "error",
     "traceback": [
      "\u001b[0;31m---------------------------------------------------------------------------\u001b[0m",
      "\u001b[0;31mValueError\u001b[0m                                Traceback (most recent call last)",
      "\u001b[0;32m/var/folders/qf/r359rl1n7pzd0jqq0qzhnj500000gn/T/ipykernel_18985/4245107890.py\u001b[0m in \u001b[0;36m<module>\u001b[0;34m\u001b[0m\n\u001b[1;32m      1\u001b[0m \u001b[0;31m# Remove the first instance of a named item\u001b[0m\u001b[0;34m\u001b[0m\u001b[0;34m\u001b[0m\u001b[0m\n\u001b[1;32m      2\u001b[0m \u001b[0mbest_fruits\u001b[0m \u001b[0;34m=\u001b[0m \u001b[0;34m[\u001b[0m\u001b[0;34m\"apple\"\u001b[0m\u001b[0;34m,\u001b[0m \u001b[0;34m\"peach\"\u001b[0m\u001b[0;34m,\u001b[0m \u001b[0;34m\"kiwi\"\u001b[0m\u001b[0;34m,\u001b[0m \u001b[0;34m\"grapes\"\u001b[0m\u001b[0;34m,\u001b[0m \u001b[0;34m\"orange\"\u001b[0m\u001b[0;34m,\u001b[0m \u001b[0;34m\"kiwi\"\u001b[0m\u001b[0;34m]\u001b[0m\u001b[0;34m\u001b[0m\u001b[0;34m\u001b[0m\u001b[0m\n\u001b[0;32m----> 3\u001b[0;31m \u001b[0mbest_fruits\u001b[0m\u001b[0;34m.\u001b[0m\u001b[0mremove\u001b[0m\u001b[0;34m(\u001b[0m\u001b[0;34m\"banana\"\u001b[0m\u001b[0;34m)\u001b[0m\u001b[0;34m\u001b[0m\u001b[0;34m\u001b[0m\u001b[0m\n\u001b[0m\u001b[1;32m      4\u001b[0m \u001b[0mprint\u001b[0m\u001b[0;34m(\u001b[0m\u001b[0mbest_fruits\u001b[0m\u001b[0;34m)\u001b[0m\u001b[0;34m\u001b[0m\u001b[0;34m\u001b[0m\u001b[0m\n",
      "\u001b[0;31mValueError\u001b[0m: list.remove(x): x not in list"
     ]
    }
   ],
   "source": [
    "# Remove the first instance of a named item\n",
    "best_fruits = [\"apple\", \"peach\", \"kiwi\", \"grapes\", \"orange\", \"kiwi\"]\n",
    "best_fruits.remove(\"banana\")\n",
    "print(best_fruits)"
   ]
  },
  {
   "cell_type": "code",
   "execution_count": 19,
   "metadata": {},
   "outputs": [
    {
     "name": "stdout",
     "output_type": "stream",
     "text": [
      "orange\n",
      "['apple', 'peach', 'kiwi', 'grapes']\n"
     ]
    }
   ],
   "source": [
    "# Pop the last index\n",
    "best_fruits = [\"apple\", \"peach\", \"kiwi\", \"grapes\", \"orange\"]\n",
    "item = best_fruits.pop()\n",
    "print(item)\n",
    "print(best_fruits)\n"
   ]
  },
  {
   "cell_type": "code",
   "execution_count": 20,
   "metadata": {},
   "outputs": [
    {
     "name": "stdout",
     "output_type": "stream",
     "text": [
      "apple\n",
      "['peach', 'kiwi', 'grapes', 'orange']\n"
     ]
    }
   ],
   "source": [
    "# Pop the first index\n",
    "best_fruits = [\"apple\", \"peach\", \"kiwi\", \"grapes\", \"orange\"]\n",
    "item = best_fruits.pop(0)\n",
    "print(item)\n",
    "print(best_fruits)"
   ]
  },
  {
   "cell_type": "markdown",
   "metadata": {},
   "source": [
    "# Bonus list things!"
   ]
  },
  {
   "cell_type": "code",
   "execution_count": 22,
   "metadata": {},
   "outputs": [
    {
     "name": "stdout",
     "output_type": "stream",
     "text": [
      "apple * peach * kiwi * grapes * orange\n"
     ]
    }
   ],
   "source": [
    "# Print a list together iwth join\n",
    "best_fruits = [\"apple\", \"peach\", \"kiwi\", \"grapes\", \"orange\"]\n",
    "print(\" * \".join(best_fruits))"
   ]
  },
  {
   "cell_type": "code",
   "execution_count": 24,
   "metadata": {},
   "outputs": [
    {
     "name": "stdout",
     "output_type": "stream",
     "text": [
      "2\n"
     ]
    }
   ],
   "source": [
    "# Get the position of an items\n",
    "best_fruits = [\"apple\", \"peach\", \"kiwi\", \"grapes\", \"orange\"]\n",
    "kiwi_index = best_fruits.index(\"kiwi\")\n",
    "print(kiwi_index)"
   ]
  },
  {
   "cell_type": "code",
   "execution_count": 27,
   "metadata": {},
   "outputs": [
    {
     "name": "stdout",
     "output_type": "stream",
     "text": [
      "['apple', 'grapes', 'kiwi', 'orange', 'peach']\n",
      "['apple', 'peach', 'kiwi', 'grapes', 'orange']\n",
      "['apple', 'grapes', 'kiwi', 'orange', 'peach']\n"
     ]
    }
   ],
   "source": [
    "# Sort a list lexigraphically\n",
    "best_fruits = [\"apple\", \"peach\", \"kiwi\", \"grapes\", \"orange\"]\n",
    "print(sorted(best_fruits))\n",
    "print(best_fruits)\n",
    "\n",
    "best_fruits.sort()\n",
    "print(best_fruits)"
   ]
  }
 ],
 "metadata": {
  "interpreter": {
   "hash": "b0fa6594d8f4cbf19f97940f81e996739fb7646882a419484c72d19e05852a7e"
  },
  "kernelspec": {
   "display_name": "Python 3.9.8 64-bit",
   "language": "python",
   "name": "python3"
  },
  "language_info": {
   "codemirror_mode": {
    "name": "ipython",
    "version": 3
   },
   "file_extension": ".py",
   "mimetype": "text/x-python",
   "name": "python",
   "nbconvert_exporter": "python",
   "pygments_lexer": "ipython3",
   "version": "3.9.8"
  },
  "orig_nbformat": 4
 },
 "nbformat": 4,
 "nbformat_minor": 2
}
