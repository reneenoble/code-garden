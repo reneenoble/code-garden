{
 "cells": [
  {
   "cell_type": "markdown",
   "metadata": {},
   "source": [
    "## Make a dictionary"
   ]
  },
  {
   "cell_type": "code",
   "execution_count": null,
   "metadata": {},
   "outputs": [],
   "source": [
    "# Empty dictionary\n",
    "\n",
    "phone_numbers = {}"
   ]
  },
  {
   "cell_type": "code",
   "execution_count": 1,
   "metadata": {},
   "outputs": [
    {
     "name": "stdout",
     "output_type": "stream",
     "text": [
      "{'Renee': 'mango', 'Nicky': 'sashimi', 'Jack': 'ice cream', 'Sarah': 'chocolate'}\n"
     ]
    }
   ],
   "source": [
    "# Populated dictionary\n",
    "\n",
    "fave_food = {\"Renee\": \"mango\", \"Nicky\": \"sashimi\", \"Jack\": \"ice cream\", \"Sarah\": \"chocolate\"}\n",
    "\n",
    "print(fave_food)"
   ]
  },
  {
   "cell_type": "code",
   "execution_count": 4,
   "metadata": {},
   "outputs": [],
   "source": [
    "# Populated dictionary\n",
    "# Populated dictionary\n",
    "fave_food = {\"Renee\": \"mango\", \n",
    "             \"Nicky\": \"sashimi\", \n",
    "             \"Jack\": \"ice cream\", \n",
    "             \"Sarah\": \"chocolate\",\n",
    "             \"Sam\": \"kangaroo\",\n",
    "             }"
   ]
  },
  {
   "cell_type": "markdown",
   "metadata": {},
   "source": [
    "## Some more examples"
   ]
  },
  {
   "cell_type": "code",
   "execution_count": 2,
   "metadata": {},
   "outputs": [
    {
     "name": "stdout",
     "output_type": "stream",
     "text": [
      "{'chips': 5, 'apples': 10, 'chocolates': 2, 'bananas': 4}\n"
     ]
    }
   ],
   "source": [
    "stocktake = {\"chips\": 5,\n",
    "             \"apples\": 10,\n",
    "             \"chocolates\": 2,\n",
    "             \"bananas\": 4}\n",
    "\n",
    "print(stocktake)"
   ]
  },
  {
   "cell_type": "code",
   "execution_count": 3,
   "metadata": {},
   "outputs": [
    {
     "name": "stdout",
     "output_type": "stream",
     "text": [
      "{2000: 'Sydney', 2007: 'Ultimo', 2016: 'Redfern', 2043: 'Newtown'}\n"
     ]
    }
   ],
   "source": [
    "postcodes = {2000: \"Sydney\",\n",
    "             2007: \"Ultimo\",\n",
    "             2016: \"Redfern\",\n",
    "             2043: \"Newtown\"}\n",
    "\n",
    "print(postcodes)\n"
   ]
  },
  {
   "cell_type": "code",
   "execution_count": 4,
   "metadata": {},
   "outputs": [
    {
     "name": "stdout",
     "output_type": "stream",
     "text": [
      "{'Panthers': ['Jen', 'Kat', 'Ben'], 'Dolphins': ['Sam', 'Nicky'], 'Sharks': ['Sarah', 'Jack'], 'Tigers': ['Lisa', 'Lin', 'Cleo']}\n"
     ]
    }
   ],
   "source": [
    "teams = {\"Panthers\": [\"Jen\", \"Kat\", \"Ben\"],\n",
    "         \"Dolphins\": [\"Sam\", \"Nicky\"],\n",
    "         \"Sharks\": [\"Sarah\", \"Jack\"],\n",
    "         \"Tigers\": [\"Lisa\", \"Lin\", \"Cleo\"] }\n",
    "\n",
    "print(teams)"
   ]
  },
  {
   "cell_type": "code",
   "execution_count": 5,
   "metadata": {},
   "outputs": [
    {
     "name": "stdout",
     "output_type": "stream",
     "text": [
      "{('Renee', 'Noble'): '111', ('Scott', 'Smith'): '222', ('Sally', 'Smith'): '333'}\n"
     ]
    }
   ],
   "source": [
    "phone_numbers = {(\"Renee\", \"Noble\"): \"111\",\n",
    "                 (\"Scott\", \"Smith\"): \"222\",\n",
    "                 (\"Sally\", \"Smith\"): \"333\"\n",
    "                  }\n",
    "\n",
    "print(phone_numbers)"
   ]
  },
  {
   "cell_type": "markdown",
   "metadata": {},
   "source": [
    "## Looking up items"
   ]
  },
  {
   "cell_type": "code",
   "execution_count": 7,
   "metadata": {},
   "outputs": [
    {
     "name": "stdout",
     "output_type": "stream",
     "text": [
      "ice cream\n",
      "mango\n"
     ]
    }
   ],
   "source": [
    "# Looking up and item\n",
    "fave_food = {\"Renee\": \"mango\", \"Nicky\": \"sashimi\", \"Jack\": \"ice cream\", \"Sarah\": \"chocolate\"}\n",
    "\n",
    "food = fave_food[\"Jack\"]\n",
    "print(food)\n",
    "\n",
    "food = fave_food[\"Renee\"]\n",
    "print(food)"
   ]
  },
  {
   "cell_type": "markdown",
   "metadata": {},
   "source": [
    "## Add to, remove from, and edit a dictionary"
   ]
  },
  {
   "cell_type": "code",
   "execution_count": 8,
   "metadata": {},
   "outputs": [
    {
     "name": "stdout",
     "output_type": "stream",
     "text": [
      "{'Renee': 'mango', 'Nicky': 'sashimi', 'Jack': 'ice cream', 'Sarah': 'chocolate'}\n",
      "{'Renee': 'mango', 'Nicky': 'sashimi', 'Jack': 'ice cream', 'Sarah': 'chocolate', 'Sam': 'kangaroo'}\n"
     ]
    }
   ],
   "source": [
    "# Add a new pair\n",
    "fave_food = {\"Renee\": \"mango\", \"Nicky\": \"sashimi\", \"Jack\": \"ice cream\", \"Sarah\": \"chocolate\"}\n",
    "print(fave_food)\n",
    "\n",
    "fave_food[\"Sam\"] = \"kangaroo\"\n",
    "print(fave_food)"
   ]
  },
  {
   "cell_type": "code",
   "execution_count": 10,
   "metadata": {},
   "outputs": [
    {
     "name": "stdout",
     "output_type": "stream",
     "text": [
      "{'Renee': 'mango', 'Nicky': 'sashimi', 'Jack': 'tofu', 'Sarah': 'chocolate', 'Sam': 'kangaroo'}\n",
      "{'Renee': 'sashimi', 'Nicky': 'sashimi', 'Jack': 'tofu', 'Sarah': 'chocolate', 'Sam': 'kangaroo'}\n"
     ]
    }
   ],
   "source": [
    "# Update an a value (no duplicate keys)\n",
    "fave_food[\"Jack\"] = \"tofu\"\n",
    "print(fave_food)\n",
    "\n",
    "fave_food[\"Renee\"] = \"sashimi\"\n",
    "print(fave_food)\n"
   ]
  },
  {
   "cell_type": "code",
   "execution_count": 13,
   "metadata": {},
   "outputs": [
    {
     "name": "stdout",
     "output_type": "stream",
     "text": [
      "{'Renee': 'mango', 'Nicky': 'sashimi', 'Jack': 'ice cream'}\n",
      "chocolate\n"
     ]
    }
   ],
   "source": [
    "# Remove an item\n",
    "fave_food = {'Renee': 'mango', 'Nicky': 'sashimi', 'Jack': 'ice cream', 'Sarah': 'chocolate'}\n",
    "\n",
    "food = fave_food.pop(\"Sarah\")\n",
    "print(fave_food)\n",
    "print(food)"
   ]
  },
  {
   "cell_type": "markdown",
   "metadata": {},
   "source": [
    "## Looping with keys, values, and items"
   ]
  },
  {
   "cell_type": "code",
   "execution_count": 14,
   "metadata": {},
   "outputs": [
    {
     "name": "stdout",
     "output_type": "stream",
     "text": [
      "Party Attendees:\n",
      "Renee\n",
      "Nicky\n",
      "Jack\n",
      "Sarah\n"
     ]
    }
   ],
   "source": [
    "# Loop with keys\n",
    "\n",
    "fave_food = {\"Renee\": \"mango\", \"Nicky\": \"sashimi\", \"Jack\": \"ice cream\", \"Sarah\": \"chocolate\"}\n",
    "\n",
    "print(\"Party Attendees:\")\n",
    "\n",
    "for name in fave_food.keys():\n",
    "    print(name)"
   ]
  },
  {
   "cell_type": "code",
   "execution_count": 15,
   "metadata": {},
   "outputs": [
    {
     "name": "stdout",
     "output_type": "stream",
     "text": [
      "Shopping list:\n",
      "mango\n",
      "sashimi\n",
      "ice cream\n",
      "chocolate\n"
     ]
    }
   ],
   "source": [
    "# Loop with values\n",
    "\n",
    "print(\"Shopping list:\")\n",
    "for food in fave_food.values():\n",
    "    print(food)"
   ]
  },
  {
   "cell_type": "code",
   "execution_count": 16,
   "metadata": {},
   "outputs": [
    {
     "name": "stdout",
     "output_type": "stream",
     "text": [
      "('Renee', 'mango')\n",
      "('Nicky', 'sashimi')\n",
      "('Jack', 'ice cream')\n",
      "('Sarah', 'chocolate')\n"
     ]
    }
   ],
   "source": [
    "# Loop with items\n",
    "\n",
    "for pair in fave_food.items():\n",
    "    print(pair)"
   ]
  },
  {
   "cell_type": "code",
   "execution_count": 17,
   "metadata": {},
   "outputs": [
    {
     "name": "stdout",
     "output_type": "stream",
     "text": [
      "Renee likes mango\n",
      "Nicky likes sashimi\n",
      "Jack likes ice cream\n",
      "Sarah likes chocolate\n"
     ]
    }
   ],
   "source": [
    "# Unpacking items for a loop\n",
    "\n",
    "for name, food in fave_food.items():\n",
    "    print(name, \"likes\", food )"
   ]
  },
  {
   "cell_type": "markdown",
   "metadata": {},
   "source": [
    "# Default Values for dictioanries"
   ]
  },
  {
   "cell_type": "code",
   "execution_count": 18,
   "metadata": {},
   "outputs": [
    {
     "ename": "KeyError",
     "evalue": "'Sally'",
     "output_type": "error",
     "traceback": [
      "\u001b[0;31m---------------------------------------------------------------------------\u001b[0m",
      "\u001b[0;31mKeyError\u001b[0m                                  Traceback (most recent call last)",
      "\u001b[0;32m/var/folders/qf/r359rl1n7pzd0jqq0qzhnj500000gn/T/ipykernel_18649/3365135722.py\u001b[0m in \u001b[0;36m<module>\u001b[0;34m\u001b[0m\n\u001b[1;32m      2\u001b[0m \u001b[0mfave_food\u001b[0m \u001b[0;34m=\u001b[0m \u001b[0;34m{\u001b[0m\u001b[0;34m\"Renee\"\u001b[0m\u001b[0;34m:\u001b[0m \u001b[0;34m\"mango\"\u001b[0m\u001b[0;34m,\u001b[0m \u001b[0;34m\"Nicky\"\u001b[0m\u001b[0;34m:\u001b[0m \u001b[0;34m\"sashimi\"\u001b[0m\u001b[0;34m,\u001b[0m \u001b[0;34m\"Jack\"\u001b[0m\u001b[0;34m:\u001b[0m \u001b[0;34m\"ice cream\"\u001b[0m\u001b[0;34m,\u001b[0m \u001b[0;34m\"Sarah\"\u001b[0m\u001b[0;34m:\u001b[0m \u001b[0;34m\"chocolate\"\u001b[0m\u001b[0;34m}\u001b[0m\u001b[0;34m\u001b[0m\u001b[0;34m\u001b[0m\u001b[0m\n\u001b[1;32m      3\u001b[0m \u001b[0;34m\u001b[0m\u001b[0m\n\u001b[0;32m----> 4\u001b[0;31m \u001b[0mprint\u001b[0m\u001b[0;34m(\u001b[0m\u001b[0mfave_food\u001b[0m\u001b[0;34m[\u001b[0m\u001b[0;34m\"Sally\"\u001b[0m\u001b[0;34m]\u001b[0m\u001b[0;34m)\u001b[0m\u001b[0;34m\u001b[0m\u001b[0;34m\u001b[0m\u001b[0m\n\u001b[0m",
      "\u001b[0;31mKeyError\u001b[0m: 'Sally'"
     ]
    }
   ],
   "source": [
    "# You can't get something that's not there\n",
    "fave_food = {\"Renee\": \"mango\", \"Nicky\": \"sashimi\", \"Jack\": \"ice cream\", \"Sarah\": \"chocolate\"}\n",
    "\n",
    "print(fave_food[\"Sally\"])\n"
   ]
  },
  {
   "cell_type": "code",
   "execution_count": 20,
   "metadata": {},
   "outputs": [
    {
     "name": "stdout",
     "output_type": "stream",
     "text": [
      "water\n",
      "mango\n"
     ]
    }
   ],
   "source": [
    "# Get a default value\n",
    "\n",
    "fave_food = {\"Renee\": \"mango\", \"Nicky\": \"sashimi\", \"Jack\": \"ice cream\", \"Sarah\": \"chocolate\"}\n",
    "\n",
    "food = fave_food.get(\"Sally\", \"water\")\n",
    "print(food)\n",
    "\n",
    "print(fave_food.get(\"Renee\", \"water\"))"
   ]
  },
  {
   "cell_type": "code",
   "execution_count": 23,
   "metadata": {},
   "outputs": [
    {
     "ename": "KeyError",
     "evalue": "'Tigers'",
     "output_type": "error",
     "traceback": [
      "\u001b[0;31m---------------------------------------------------------------------------\u001b[0m",
      "\u001b[0;31mKeyError\u001b[0m                                  Traceback (most recent call last)",
      "\u001b[0;32m/var/folders/qf/r359rl1n7pzd0jqq0qzhnj500000gn/T/ipykernel_18649/1433299440.py\u001b[0m in \u001b[0;36m<module>\u001b[0;34m\u001b[0m\n\u001b[1;32m      5\u001b[0m \u001b[0;34m\u001b[0m\u001b[0m\n\u001b[1;32m      6\u001b[0m \u001b[0;34m\u001b[0m\u001b[0m\n\u001b[0;32m----> 7\u001b[0;31m \u001b[0mscores\u001b[0m\u001b[0;34m[\u001b[0m\u001b[0;34m\"Tigers\"\u001b[0m\u001b[0;34m]\u001b[0m \u001b[0;34m+=\u001b[0m \u001b[0;36m1\u001b[0m\u001b[0;34m\u001b[0m\u001b[0;34m\u001b[0m\u001b[0m\n\u001b[0m\u001b[1;32m      8\u001b[0m \u001b[0mprint\u001b[0m\u001b[0;34m(\u001b[0m\u001b[0mscores\u001b[0m\u001b[0;34m)\u001b[0m\u001b[0;34m\u001b[0m\u001b[0;34m\u001b[0m\u001b[0m\n",
      "\u001b[0;31mKeyError\u001b[0m: 'Tigers'"
     ]
    }
   ],
   "source": [
    "# You can't update something that isn't there (eg increment it)\n",
    "\n",
    "scores = {\"Panthers\": 3, \"Dolphins\": 9}\n",
    "\n",
    "\n",
    "\n",
    "scores[\"Tigers\"] += 1\n",
    "print(scores)"
   ]
  },
  {
   "cell_type": "code",
   "execution_count": 26,
   "metadata": {},
   "outputs": [
    {
     "name": "stdout",
     "output_type": "stream",
     "text": [
      "defaultdict(<class 'int'>, {'Panthers': 4, 'Dolphins': 9, 'Tigers': 1})\n"
     ]
    }
   ],
   "source": [
    "# Default dict\n",
    "\n",
    "from collections import defaultdict\n",
    "\n",
    "scores = defaultdict(int)\n",
    "scores[\"Panthers\"] = 3\n",
    "scores[\"Dolphins\"] = 9\n",
    "\n",
    "scores[\"Panthers\"] += 1\n",
    "scores[\"Tigers\"] += 1\n",
    "\n",
    "print(scores)"
   ]
  }
 ],
 "metadata": {
  "interpreter": {
   "hash": "b0fa6594d8f4cbf19f97940f81e996739fb7646882a419484c72d19e05852a7e"
  },
  "kernelspec": {
   "display_name": "Python 3.9.8 64-bit",
   "language": "python",
   "name": "python3"
  },
  "language_info": {
   "codemirror_mode": {
    "name": "ipython",
    "version": 3
   },
   "file_extension": ".py",
   "mimetype": "text/x-python",
   "name": "python",
   "nbconvert_exporter": "python",
   "pygments_lexer": "ipython3",
   "version": "3.9.8"
  },
  "orig_nbformat": 4
 },
 "nbformat": 4,
 "nbformat_minor": 2
}
